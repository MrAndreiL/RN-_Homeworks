{
  "cells": [
    {
      "cell_type": "markdown",
      "metadata": {
        "id": "PAMBt717GEav"
      },
      "source": [
        "<a target=\"_blank\" href=\"https://colab.research.google.com/github/Tensor-Reloaded/Neural-Networks-Template-2024/blob/main/Lab01/Assignment1.ipynb\">\n",
        "  <img src=\"https://colab.research.google.com/assets/colab-badge.svg\" alt=\"Open In Colab\"/>\n",
        "</a>"
      ]
    },
    {
      "cell_type": "markdown",
      "metadata": {
        "id": "-m4O6f-pGEax"
      },
      "source": [
        "# **Assignment 1 (10 points)**"
      ]
    },
    {
      "cell_type": "markdown",
      "metadata": {
        "id": "gakUWpo1GEax",
        "vscode": {
          "languageId": "plaintext"
        }
      },
      "source": [
        "## **Solving a linear system in python**"
      ]
    },
    {
      "cell_type": "markdown",
      "metadata": {
        "id": "2p12wGB0GEax",
        "vscode": {
          "languageId": "plaintext"
        }
      },
      "source": [
        "In this homework, you will familiarize yourself with key linear algebra con-\n",
        "cepts and Python programming by solving a system of linear equations. You\n",
        "will explore multiple methods for solving such systems, including Cramer’s rule\n",
        "and matrix inversion. By the end of this assignment, you will have a good un-\n",
        "derstanding of how to represent and manipulate matrices and vectors in Python."
      ]
    },
    {
      "cell_type": "markdown",
      "metadata": {
        "id": "3dcszkItGEax",
        "vscode": {
          "languageId": "plaintext"
        }
      },
      "source": [
        "We begin with the following system of 3 linear equations with 3 unknowns:\n",
        "$$ 2x + 3y - z = 5 $$\n",
        "$$ x - y + 4z = 6 $$\n",
        "$$ 3x + y + 2z = 7 $$\n",
        "\n",
        "This system can be vectorized in the following form:\n",
        "$$ A \\cdot X = B $$\n",
        "where:\n",
        "$$\n",
        "A = \\begin{bmatrix}\n",
        "2 & 3 & -1 \\\\\n",
        "1 & -1 & 4 \\\\\n",
        "3 & 1 & 2\n",
        "\\end{bmatrix}, \\quad\n",
        "X = \\begin{bmatrix}\n",
        "x \\\\\n",
        "y \\\\\n",
        "z\n",
        "\\end{bmatrix}, \\quad\n",
        "B = \\begin{bmatrix}\n",
        "5 \\\\\n",
        "6 \\\\\n",
        "7\n",
        "\\end{bmatrix}\n",
        "$$\n",
        "\n",
        "**Considerations**\n",
        "- do not use any linear algebra framework such as $numpy$\n",
        "- use python lists as data structures for matrices and vectors\n",
        "- experiment with other values for the coefficients and free terms"
      ]
    },
    {
      "cell_type": "markdown",
      "metadata": {
        "id": "4CyZk25EGEax",
        "vscode": {
          "languageId": "plaintext"
        }
      },
      "source": [
        "### **1. Parsing the System of Equations (1 point)**"
      ]
    },
    {
      "cell_type": "markdown",
      "metadata": {
        "id": "nCCqIkTRGEax",
        "vscode": {
          "languageId": "plaintext"
        }
      },
      "source": [
        "The first task is to implement a Python script that reads a system of linear equations from a text file and parses it into a matrix $A$ and a vector $B$. You will use the input format described below to extract the coefficients for $A$ and $B$.\n",
        "\n",
        "**Input File Format**\n",
        "```text\n",
        "2x + 3y - z = 5\n",
        "x - y + 4z = 6\n",
        "3x + y + 2z = 7\n",
        "```\n",
        "\n",
        "Note that the coefficients are always in the order x, y and z and the terms are always space separated"
      ]
    },
    {
      "cell_type": "code",
      "execution_count": 3,
      "metadata": {
        "colab": {
          "base_uri": "https://localhost:8080/"
        },
        "id": "MQA-ps1XGEay",
        "outputId": "6606ba7e-fa50-4751-a44a-fe62487a66d5"
      },
      "outputs": [
        {
          "name": "stdout",
          "output_type": "stream",
          "text": [
            "A=[[2.0, 3.0, -1.0], [1.0, -1.0, 4.0], [3.0, 1.0, 2.0]] B=[5.0, 6.0, 7.0]\n"
          ]
        }
      ],
      "source": [
        "import pathlib\n",
        "\n",
        "def load_system(path: pathlib.Path) -> tuple[list[list[float]], list[float]]:\n",
        "    A: list[list[float]] = []\n",
        "    B: list[float] = []\n",
        "    # Read file and parse it line by line.\n",
        "    with open(path) as file:\n",
        "      for line in file:\n",
        "        # First, split by space value.\n",
        "        splitLine = line.split()\n",
        "        # Second, extract x, y and z value pairs.\n",
        "        xPair = splitLine[0]\n",
        "        yPair = splitLine[1] + splitLine[2] # Include eventual sign\n",
        "        zPair = splitLine[3] + splitLine[4] # Include eventual sign\n",
        "        # Third, extract their coefficients.\n",
        "        xCoeff = xPair.split('x')[0]\n",
        "        yCoeff = yPair.split('y')[0]\n",
        "        zCoeff = zPair.split('z')[0]\n",
        "        # Check empty, + or - string values.\n",
        "        if xCoeff == '-': xCoeff = -1\n",
        "        if yCoeff == '-': yCoeff = -1\n",
        "        if zCoeff == '-': zCoeff = -1\n",
        "        if xCoeff == '+': xCoeff = 1\n",
        "        if yCoeff == '+': yCoeff = 1\n",
        "        if zCoeff == '+': zCoeff = 1\n",
        "        if xCoeff == '': xCoeff = 1\n",
        "        if yCoeff == '': yCoeff = 1\n",
        "        if zCoeff == '': zCoeff = 1\n",
        "        A.append([float(xCoeff), float(yCoeff), float(zCoeff)])\n",
        "        B.append(float(splitLine[-1].split('\\n')[0]))\n",
        "    return A, B\n",
        "\n",
        "A, B = load_system(pathlib.Path(\"system.txt\"))\n",
        "print(f\"{A=} {B=}\")"
      ]
    },
    {
      "cell_type": "markdown",
      "metadata": {
        "id": "XlwqLMaFGEaz",
        "vscode": {
          "languageId": "plaintext"
        }
      },
      "source": [
        "### **2. Matrix and Vector Operations (5 points)**"
      ]
    },
    {
      "cell_type": "markdown",
      "metadata": {
        "id": "aazLuz41GEaz",
        "vscode": {
          "languageId": "plaintext"
        }
      },
      "source": [
        "Once you have successfully parsed the matrix and vector, complete the following exercises to manipulate and understand basic matrix and vector operations. Write Python functions for each of these tasks:"
      ]
    },
    {
      "cell_type": "markdown",
      "metadata": {
        "id": "99ZoggP0GEaz",
        "vscode": {
          "languageId": "plaintext"
        }
      },
      "source": [
        "#### 2.1. Determinant"
      ]
    },
    {
      "cell_type": "markdown",
      "metadata": {
        "id": "vnuUzbFkGEaz",
        "vscode": {
          "languageId": "plaintext"
        }
      },
      "source": [
        "Write a function to compute the determinant of matrix $A$. Recall one of the formulae for the determinant of a $3x3$ matrix:\n",
        "$$ \\text{det}(A) = a_{11}(a_{22}a_{33} - a_{23}a_{32}) - a_{12}(a_{21}a_{33} - a_{23}a_{31}) + a_{13}(a_{21}a_{32} - a_{22}a_{31}) $$"
      ]
    },
    {
      "cell_type": "code",
      "execution_count": 4,
      "metadata": {
        "colab": {
          "base_uri": "https://localhost:8080/"
        },
        "id": "JdbVEj9xGEaz",
        "outputId": "19dc6401-1587-41b5-93a3-219ec8468343"
      },
      "outputs": [
        {
          "name": "stdout",
          "output_type": "stream",
          "text": [
            "determinant(A)=14.0\n"
          ]
        }
      ],
      "source": [
        "def determinant(matrix: list[list[float]]) -> float:\n",
        "    part1 = matrix[0][0] * (matrix[1][1] * matrix[2][2] - matrix[1][2] * matrix[2][1])\n",
        "    part2 = matrix[0][1] * (matrix[1][0] * matrix[2][2] - matrix[1][2] * matrix[2][0])\n",
        "    part3 = matrix[0][2] * (matrix[1][0] * matrix[2][1] - matrix[1][1] * matrix[2][0])\n",
        "    return part1 - part2 + part3\n",
        "\n",
        "print(f\"{determinant(A)=}\")"
      ]
    },
    {
      "cell_type": "markdown",
      "metadata": {
        "id": "iQ7uSYO_GEaz"
      },
      "source": [
        "#### 2.2. Trace"
      ]
    },
    {
      "cell_type": "markdown",
      "metadata": {
        "id": "lMUGdWokGEaz"
      },
      "source": [
        "Compute the sum of the elements along the main diagonal of matrix $A$. For a matrix $A$, this is:\n",
        "$$ \\text{Trace}(A) = a_{11} + a_{22} + a_{33} $$"
      ]
    },
    {
      "cell_type": "code",
      "execution_count": 5,
      "metadata": {
        "colab": {
          "base_uri": "https://localhost:8080/"
        },
        "id": "ckLLljvCGEaz",
        "outputId": "628466de-fb31-4968-a613-15b07434d2b2"
      },
      "outputs": [
        {
          "name": "stdout",
          "output_type": "stream",
          "text": [
            "trace(A)=3.0\n"
          ]
        }
      ],
      "source": [
        "def trace(matrix: list[list[float]]) -> float:\n",
        "    return matrix[0][0] + matrix[1][1] + matrix[2][2]\n",
        "\n",
        "print(f\"{trace(A)=}\")"
      ]
    },
    {
      "cell_type": "markdown",
      "metadata": {
        "id": "gF_K2jdKGEa0"
      },
      "source": [
        "#### 2.3. Vector norm"
      ]
    },
    {
      "cell_type": "markdown",
      "metadata": {
        "id": "w3ltUXX5GEa0"
      },
      "source": [
        "Compute the Euclidean norm of vector $B$, which is:\n",
        "$$ ||B|| = \\sqrt{b_1^2 + b_2^2 + b_3^2} $$"
      ]
    },
    {
      "cell_type": "code",
      "execution_count": 6,
      "metadata": {
        "colab": {
          "base_uri": "https://localhost:8080/"
        },
        "id": "V7MPTOUVGEa0",
        "outputId": "b70bcd57-11e8-42d4-90c2-af6a57224f9e"
      },
      "outputs": [
        {
          "name": "stdout",
          "output_type": "stream",
          "text": [
            "norm(B)=10.488088481701515\n"
          ]
        }
      ],
      "source": [
        "def norm(vector: list[float]) -> float:\n",
        "    normVector: float = 0.0\n",
        "    for vi in vector:\n",
        "      normVector += (vi ** 2)\n",
        "    return normVector**0.5 # sqrt without library\n",
        "\n",
        "print(f\"{norm(B)=}\")"
      ]
    },
    {
      "cell_type": "markdown",
      "metadata": {
        "id": "03hvgctYGEa0"
      },
      "source": [
        "#### 2.4. Transpose of matrix"
      ]
    },
    {
      "cell_type": "markdown",
      "metadata": {
        "id": "TL-DW7wPGEa0"
      },
      "source": [
        "Write a function to compute the transpose of matrix $A$. The transpose of a matrix $A$ is obtained by swapping its rows and columns.\n",
        "    "
      ]
    },
    {
      "cell_type": "code",
      "execution_count": 7,
      "metadata": {
        "colab": {
          "base_uri": "https://localhost:8080/"
        },
        "id": "W06h59PTGEa0",
        "outputId": "7ec59dc8-734e-4996-a772-485cd618d6d0"
      },
      "outputs": [
        {
          "name": "stdout",
          "output_type": "stream",
          "text": [
            "transpose(A)=[[2.0, 1.0, 3.0], [3.0, -1.0, 1.0], [-1.0, 4.0, 2.0]]\n"
          ]
        }
      ],
      "source": [
        "def transpose(matrix: list[list[float]]) -> list[list[float]]:\n",
        "    transposedA: list[list[float]] = []\n",
        "    for row in matrix:\n",
        "      transposedA.append([])\n",
        "    for row in matrix:\n",
        "      for idx, vi in enumerate(row):\n",
        "        transposedA[idx].append(vi)\n",
        "    return transposedA\n",
        "\n",
        "print(f\"{transpose(A)=}\")"
      ]
    },
    {
      "cell_type": "markdown",
      "metadata": {
        "id": "at5l3VqyGEa0"
      },
      "source": [
        "#### 2.5. Matrix-vector multiplication"
      ]
    },
    {
      "cell_type": "markdown",
      "metadata": {
        "id": "UsI9qyogGEa0"
      },
      "source": [
        "Write a function that multiplies matrix $A$ with vector $B$."
      ]
    },
    {
      "cell_type": "code",
      "execution_count": 8,
      "metadata": {
        "colab": {
          "base_uri": "https://localhost:8080/"
        },
        "id": "TI8x5hJtGEa0",
        "outputId": "68dd3009-6cdd-4d0d-df1d-00e06e4be3c5"
      },
      "outputs": [
        {
          "name": "stdout",
          "output_type": "stream",
          "text": [
            "multiply(A, B)=[21.0, 27.0, 35.0]\n"
          ]
        }
      ],
      "source": [
        "def dotProduct(v1: list[float], v2: list[float]) -> float:\n",
        "  product:float = 0.0\n",
        "  for i in range(len(v1)):\n",
        "    product += (v1[i]* v2[i])\n",
        "  return product\n",
        "\n",
        "def multiply(matrix: list[list[float]], vector: list[float]) -> list[float]:\n",
        "    multiplication: list[float] = []\n",
        "    for row in matrix:\n",
        "      multiplication.append(dotProduct(row, vector))\n",
        "    return multiplication\n",
        "\n",
        "print(f\"{multiply(A, B)=}\")"
      ]
    },
    {
      "cell_type": "markdown",
      "metadata": {
        "id": "NtuD3amzGEa0"
      },
      "source": [
        "### **3. Solving using Cramer's Rule (1 point)**"
      ]
    },
    {
      "cell_type": "markdown",
      "metadata": {
        "id": "X43Y4iC2GEa1"
      },
      "source": [
        "Now that you have explored basic matrix operations, solve the system of linear equations using Cramer's rule.\n",
        "\n",
        "**Cramer's Rule:**\n",
        "\n",
        "Cramer's rule allows you to solve for each unknown $x$, $y$, and $z$ using determinants. For example:\n",
        "$$ x = \\frac{\\text{det}(A_x)}{\\text{det}(A)}, \\quad y = \\frac{\\text{det}(A_y)}{\\text{det}(A)}, \\quad z = \\frac{\\text{det}(A_z)}{\\text{det}(A)} $$\n",
        "where $A_x$, $A_y$, and $A_z$ are matrices formed by replacing the respective column of matrix $A$ with vector $B$."
      ]
    },
    {
      "cell_type": "code",
      "execution_count": 9,
      "metadata": {
        "colab": {
          "base_uri": "https://localhost:8080/"
        },
        "id": "kv6NQD6sGEa1",
        "outputId": "b55fd623-b7b8-44bc-ae78-433cbd15c240"
      },
      "outputs": [
        {
          "name": "stdout",
          "output_type": "stream",
          "text": [
            "solve_cramer(A, B)=[0.35714285714285715, 2.0714285714285716, 1.9285714285714286]\n"
          ]
        }
      ],
      "source": [
        "import copy\n",
        "\n",
        "def replace_column(matrix: list[list[float]], vector: list[float], column: int) -> list[list[float]]:\n",
        "  newMatrix = copy.deepcopy(matrix)\n",
        "  for idx, val in enumerate(vector):\n",
        "    newMatrix[idx][column] = val\n",
        "  return newMatrix\n",
        "\n",
        "\n",
        "def solve_cramer(matrix: list[list[float]], vector: list[float]) -> list[float]:\n",
        "    detA = determinant(matrix)\n",
        "    Ax = replace_column(matrix, vector, 0)\n",
        "    x = determinant(Ax) / detA\n",
        "\n",
        "    Ay = replace_column(matrix, vector, 1)\n",
        "    y = determinant(Ay) / detA\n",
        "\n",
        "    Az = replace_column(matrix, vector, 2)\n",
        "    z = determinant(Az) / detA\n",
        "    return [x, y, z]\n",
        "\n",
        "print(f\"{solve_cramer(A, B)=}\")"
      ]
    },
    {
      "cell_type": "markdown",
      "metadata": {
        "id": "uZW-vj8HGEa1"
      },
      "source": [
        "### **4. Solving using Inversion (3 points)**"
      ]
    },
    {
      "cell_type": "markdown",
      "metadata": {
        "id": "_GWkD6rZGEa1"
      },
      "source": [
        "Finally, solve the system by computing the inverse of matrix $A$ and multiplying it by vector $B$.\n",
        "$$ A \\cdot X = B \\rightarrow X = A^{-1} \\cdot B $$\n",
        "**Adjugate Method for Matrix Inversion:**\n",
        "\n",
        "To find the inverse of matrix $ A $, you can use the adjugate method:\n",
        "$$ A^{-1} = \\frac{1}{\\text{det}(A)} \\times \\text{adj}(A) $$\n",
        "where $\\text{adj}(A)$ is the adjugate (or adjoint) matrix, which is the transpose of the cofactor matrix of $ A $.\n",
        "\n",
        "**Cofactor Matrix:**\n",
        "\n",
        "The cofactor matrix is a matrix where each element is replaced by its cofactor. The cofactor of an element $a_{ij}$ is given by:\n",
        "$$ (-1)^{i+j} \\times \\text{det}(M_{ij}) $$\n",
        "where $M_{ij}$ is the minor of element $a_{ij}$, which is the matrix obtained by removing the $i$-th row and $j$-th column from matrix $A$."
      ]
    },
    {
      "cell_type": "code",
      "execution_count": 25,
      "metadata": {
        "colab": {
          "base_uri": "https://localhost:8080/"
        },
        "id": "BW0g6PDpGEa1",
        "outputId": "1477177d-2055-4c16-ec55-b63cb890db6d"
      },
      "outputs": [
        {
          "name": "stdout",
          "output_type": "stream",
          "text": [
            "solve(A, B)=[0.35714285714285765, 2.071428571428571, 1.9285714285714293]\n"
          ]
        }
      ],
      "source": [
        "def minor(matrix: list[list[float]], i: int, j: int) -> list[list[float]]:\n",
        "    minorMat = []\n",
        "    for idx, row in enumerate(matrix):\n",
        "      if idx == i:\n",
        "        continue\n",
        "      newRow = []\n",
        "      for idx1, el in enumerate(row):\n",
        "        if idx1 == j:\n",
        "          continue\n",
        "        newRow.append(el)\n",
        "      minorMat.append(newRow)\n",
        "    return minorMat\n",
        "\n",
        "def power_1(y):\n",
        "  if y % 2 == 0:\n",
        "    return 1\n",
        "  return -1\n",
        "\n",
        "def determinant2x2(matrix: list[list[float]]) -> float:\n",
        "  return (matrix[0][0] * matrix[1][1]) - (matrix[0][1] * matrix[1][0])\n",
        "\n",
        "def cofactor(matrix: list[list[float]]) -> list[list[float]]:\n",
        "    n = len(matrix)\n",
        "    m = len(matrix[0])\n",
        "    cofactorMatrix = []\n",
        "    for i in range(n):\n",
        "      cofactorMatrix.append([])\n",
        "      for j in range(m):\n",
        "        cofactorMatrix[i].append(power_1(i + j) * determinant2x2(minor(matrix, i, j)))\n",
        "    return cofactorMatrix\n",
        "\n",
        "def adjoint(matrix: list[list[float]]) -> list[list[float]]:\n",
        "    return transpose(cofactor(matrix))\n",
        "\n",
        "def inverse(matrix: list[list[float]]) -> list[list[float]]:\n",
        "    detInv = 1 / determinant(matrix)\n",
        "    adjointMatrix = adjoint(matrix)\n",
        "    inverseMatrix = []\n",
        "    for idxi, row in enumerate(adjointMatrix):\n",
        "      inverseMatrix.append([])\n",
        "      for idxj, val in enumerate(row):\n",
        "        inverseMatrix[idxi].append(detInv * adjointMatrix[idxi][idxj])\n",
        "    return inverseMatrix\n",
        "\n",
        "def solve(matrix: list[list[float]], vector: list[float]) -> list[float]:\n",
        "    return multiply(inverse(matrix), vector)\n",
        "\n",
        "print(f\"{solve(A, B)=}\")"
      ]
    }
  ],
  "metadata": {
    "colab": {
      "provenance": []
    },
    "kernelspec": {
      "display_name": "Python 3",
      "language": "python",
      "name": "python3"
    },
    "language_info": {
      "codemirror_mode": {
        "name": "ipython",
        "version": 3
      },
      "file_extension": ".py",
      "mimetype": "text/x-python",
      "name": "python",
      "nbconvert_exporter": "python",
      "pygments_lexer": "ipython3",
      "version": "3.10.13"
    }
  },
  "nbformat": 4,
  "nbformat_minor": 0
}
